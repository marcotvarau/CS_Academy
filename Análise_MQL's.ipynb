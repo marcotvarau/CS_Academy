{
  "nbformat": 4,
  "nbformat_minor": 0,
  "metadata": {
    "colab": {
      "name": "Análise MQL's",
      "provenance": [],
      "authorship_tag": "ABX9TyPmcAq0h8eTP7dx1SX06r/R"
    },
    "kernelspec": {
      "name": "python3",
      "display_name": "Python 3"
    },
    "language_info": {
      "name": "python"
    }
  },
  "cells": [
    {
      "cell_type": "code",
      "metadata": {
        "id": "I_NH07jgtlSI"
      },
      "source": [
        "import pandas as pd"
      ],
      "execution_count": null,
      "outputs": []
    },
    {
      "cell_type": "code",
      "metadata": {
        "id": "uNrSbGWit-4B"
      },
      "source": [
        "df = pd.read_csv('Leads.csv')"
      ],
      "execution_count": null,
      "outputs": []
    },
    {
      "cell_type": "code",
      "metadata": {
        "id": "MB8utpejDDvg"
      },
      "source": [
        "df = df[['Email','Date Created','*Área de Atuação','*Cargo','Tags']]"
      ],
      "execution_count": null,
      "outputs": []
    },
    {
      "cell_type": "code",
      "metadata": {
        "id": "IG6PY58sHkX0"
      },
      "source": [
        "df = df[df['Tags'].notna()]\n",
        "df = df[df['Date Created'].notna()]"
      ],
      "execution_count": null,
      "outputs": []
    },
    {
      "cell_type": "code",
      "metadata": {
        "id": "8K0WKF8GHpta"
      },
      "source": [
        "df = df.convert_dtypes()"
      ],
      "execution_count": null,
      "outputs": []
    },
    {
      "cell_type": "markdown",
      "metadata": {
        "id": "iLLBNITCyNxD"
      },
      "source": [
        "#Definindo os MQL's"
      ]
    },
    {
      "cell_type": "code",
      "metadata": {
        "id": "eDj9LayLGJRj"
      },
      "source": [
        "CSI_df = df[['[CSI]' in c for c in list(df['Tags'])]]\n",
        "CSI_df.reset_index(inplace= True,drop=True)\n",
        "CXI_df = df[['[CXI]' in c for c in list(df['Tags'])]]\n",
        "CXI_df.reset_index(inplace= True,drop=True)\n",
        "JC_df = df[['[JC]' in c for c in list(df['Tags'])]]\n",
        "JC_df.reset_index(inplace= True,drop=True)\n",
        "MQLs = pd.concat([CSI_df,CXI_df,JC_df], ignore_index=True)\n",
        "MQLs.drop_duplicates(inplace=True, ignore_index = True)"
      ],
      "execution_count": null,
      "outputs": []
    },
    {
      "cell_type": "code",
      "metadata": {
        "id": "NRQSsmCPL0Ca"
      },
      "source": [
        "MQLs"
      ],
      "execution_count": null,
      "outputs": []
    },
    {
      "cell_type": "code",
      "metadata": {
        "id": "pcrPpYT31a9S"
      },
      "source": [
        "MQLs.loc[['[CSI] interessados' in c for c in list(MQLs['Tags'])],'CSI'] = 'Pipe'\n",
        "MQLs.loc[['[CXI] interessados' in c for c in list(MQLs['Tags'])],'CXI'] = 'Pipe'\n",
        "MQLs.loc[['[JC] interessados' in c for c in list(MQLs['Tags'])],'JC'] = 'Pipe'"
      ],
      "execution_count": null,
      "outputs": []
    },
    {
      "cell_type": "code",
      "metadata": {
        "id": "pnoj4O85MYOp"
      },
      "source": [
        "MQLs.loc[['[CSI] aluno' in c for c in list(MQLs['Tags'])],'CSI'] = 'Venda'\n",
        "MQLs.loc[['[CXI] aluno' in c for c in list(MQLs['Tags'])],'CXI'] = 'Venda'\n",
        "MQLs.loc[['[JC] aluno' in c for c in list(MQLs['Tags'])],'JC'] = 'Venda'"
      ],
      "execution_count": null,
      "outputs": []
    },
    {
      "cell_type": "code",
      "metadata": {
        "id": "D9MEPe2yQw3H"
      },
      "source": [
        "MQLs.loc[['[CSI] perdidos' in c for c in list(MQLs['Tags'])],'CSI'] = 'Churn'\n",
        "MQLs.loc[['[CXI] perdidos' in c for c in list(MQLs['Tags'])],'CXI'] = 'Churn'\n",
        "MQLs.loc[['[JC] perdidos' in c for c in list(MQLs['Tags'])],'JC'] = 'Churn'"
      ],
      "execution_count": null,
      "outputs": []
    },
    {
      "cell_type": "code",
      "metadata": {
        "id": "ANaQnthJSSJX"
      },
      "source": [
        "MQLs.fillna('-',inplace=True)"
      ],
      "execution_count": null,
      "outputs": []
    },
    {
      "cell_type": "code",
      "metadata": {
        "id": "Sa1obhMd2HBX"
      },
      "source": [
        "MQLs"
      ],
      "execution_count": null,
      "outputs": []
    },
    {
      "cell_type": "code",
      "metadata": {
        "id": "FyvRyL8T2zH3"
      },
      "source": [
        "Tags = pd.DataFrame(MQLs.Tags)"
      ],
      "execution_count": null,
      "outputs": []
    },
    {
      "cell_type": "code",
      "metadata": {
        "id": "uH-cwCNo26tH"
      },
      "source": [
        "MQLs.join(\n",
        "     MQLs['Tags'].str.split(',', expand=True)\n",
        "     )"
      ],
      "execution_count": null,
      "outputs": []
    },
    {
      "cell_type": "code",
      "metadata": {
        "id": "YgQz4jcq3AkA"
      },
      "source": [
        "Vendas_CSI = MQLs.loc[MQLs.CSI == 'Venda']\n",
        "Vendas_CXI = MQLs.loc[MQLs.CXI == 'Venda']\n",
        "Vendas_JC = MQLs.loc[MQLs.JC == 'Venda']\n",
        "Vendas = pd.concat([Vendas_CSI,Vendas_CXI,Vendas_JC])\n",
        "Vendas.drop_duplicates(inplace=True, ignore_index = True)"
      ],
      "execution_count": null,
      "outputs": []
    },
    {
      "cell_type": "code",
      "metadata": {
        "id": "hSeCQg_Q4meT"
      },
      "source": [
        "Churn_CSI = MQLs.loc[MQLs.CSI == 'Churn']\n",
        "Churn_CXI = MQLs.loc[MQLs.CXI == 'Churn']\n",
        "Churn_JC = MQLs.loc[MQLs.JC == 'Churn']\n",
        "Churn = pd.concat([Churn_CSI,Churn_CXI,Churn_JC])\n",
        "Churn.drop_duplicates(inplace=True, ignore_index = True)"
      ],
      "execution_count": null,
      "outputs": []
    },
    {
      "cell_type": "code",
      "metadata": {
        "id": "xqG47423pYaJ"
      },
      "source": [
        "Pipe_CSI = MQLs.loc[MQLs.CSI == 'Pipe']\n",
        "Pipe_CXI = MQLs.loc[MQLs.CXI == 'Pipe']\n",
        "Pipe_JC = MQLs.loc[MQLs.JC == 'Pipe']\n",
        "Pipe = pd.concat([Pipe_CSI,Pipe_CXI,Pipe_JC])\n",
        "Pipe.drop_duplicates(inplace=True, ignore_index = True)"
      ],
      "execution_count": null,
      "outputs": []
    },
    {
      "cell_type": "code",
      "metadata": {
        "id": "7JeyMlpDsWpd"
      },
      "source": [
        "CSI = MQLs[MQLs['CSI']!= '-']\n",
        "CXI = MQLs[MQLs['CXI']!= '-']\n",
        "JC = MQLs[MQLs['JC'] != '-']"
      ],
      "execution_count": null,
      "outputs": []
    },
    {
      "cell_type": "code",
      "metadata": {
        "id": "B1_Fv4pnsvne"
      },
      "source": [
        "pd.DataFrame(CSI.CSI.value_counts(normalize=True)*100)"
      ],
      "execution_count": null,
      "outputs": []
    },
    {
      "cell_type": "code",
      "metadata": {
        "id": "p3QZLAlrwZ4h"
      },
      "source": [
        "MQLs.to_csv('MQLs.csv')"
      ],
      "execution_count": null,
      "outputs": []
    }
  ]
}