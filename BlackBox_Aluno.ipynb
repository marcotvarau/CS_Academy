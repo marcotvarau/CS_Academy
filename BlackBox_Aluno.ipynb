{
  "nbformat": 4,
  "nbformat_minor": 0,
  "metadata": {
    "colab": {
      "name": "BlackBox/Aluno",
      "provenance": [],
      "authorship_tag": "ABX9TyObCnTY9To0FHj0ZuDThGpP"
    },
    "kernelspec": {
      "name": "python3",
      "display_name": "Python 3"
    },
    "language_info": {
      "name": "python"
    }
  },
  "cells": [
    {
      "cell_type": "markdown",
      "metadata": {
        "id": "yjJmu-ScBgQA"
      },
      "source": [
        "#Processamento"
      ]
    },
    {
      "cell_type": "code",
      "metadata": {
        "id": "YwZ1vAB48ebL"
      },
      "source": [
        "import pandas as pd"
      ],
      "execution_count": null,
      "outputs": []
    },
    {
      "cell_type": "code",
      "metadata": {
        "id": "2lFSg-xuCPeh"
      },
      "source": [
        "bb = pd.read_csv('BB.csv')\n",
        "active = pd.read_csv('Active.csv')\n",
        "vendas = pd.read_csv('Vendas_Ano.csv',sep = ';')"
      ],
      "execution_count": null,
      "outputs": []
    },
    {
      "cell_type": "code",
      "metadata": {
        "id": "-N1YMGzyThdj"
      },
      "source": [
        "active = active[['ID','Email','First Name','Last Name','Date Created','*Empresa','*Cargo','*Leadscoring Geral','Tags']]"
      ],
      "execution_count": null,
      "outputs": []
    },
    {
      "cell_type": "code",
      "metadata": {
        "id": "7xg83Wk7-PLG"
      },
      "source": [
        "def classifica_dados(datafreime):\n",
        "  for i in range(datafreime.shape[0]): \n",
        "    if(datafreime.loc[i,'Produto_Nome']=='Customer Data Analytics'\n",
        "  or datafreime.loc[i,'Produto_Nome']=='Curso Online CS Academy'\n",
        "  or datafreime.loc[i,'Produto_Nome']=='Combo Customer Success Essential e Customer Experience Essential '\n",
        "  or datafreime.loc[i,'Produto_Nome']=='Curso - Curso CSM Essential' \n",
        "  or datafreime.loc[i,'Produto_Nome']=='Curso CSM Essential'  \n",
        "  or datafreime.loc[i,'Produto_Nome']=='Curso CX Essential'\n",
        "  or datafreime.loc[i,'Produto_Nome']=='CS Essential, CX Essential '\n",
        "  or datafreime.loc[i,'Produto_Nome']=='Customer Experience Essential'\n",
        "  or datafreime.loc[i,'Produto_Nome']=='Customer Success Manager Essential'\n",
        "  or datafreime.loc[i,'Produto_Nome']=='Gestão de Atendimento e Suporte'):\n",
        "      datafreime.loc[i,'Tipo'] ='Gravados'\n",
        "    elif(datafreime.loc[i,'Produto_Nome']=='CURSO CX INTERMEDIATE'\n",
        "    or datafreime.loc[i,'Produto_Nome']=='CX Intermediate - Nº do pedido: 4510090263'\n",
        "    or datafreime.loc[i,'Produto_Nome']=='Customer Experience Intermediate - ONLINE AO VIVO - Turma 10'\n",
        "    or datafreime.loc[i,'Produto_Nome']=='Curso Customer Success Intermediate - ONLINE AO VIVO - Turma 11'\n",
        "    or datafreime.loc[i,'Produto_Nome']=='Curso Customer Success Intermediate - ONLINE AO VIVO - Turma 9'\n",
        "    or datafreime.loc[i,'Produto_Nome']=='Customer Experience Intermediate - ONLINE AO VIVO - Turma 7'\n",
        "    or datafreime.loc[i,'Produto_Nome']=='Customer Experience Intermediate - ONLINE AO VIVO - Turma 8'\n",
        "    or datafreime.loc[i,'Produto_Nome']=='Customer Experience Intermediate - ONLINE AO VIVO - Turma 9'\n",
        "    or datafreime.loc[i,'Produto_Nome']=='WORKSHOP CUSTOMER SUCESS - 20 Colaboradores / Pedido de compra nº: 179326 / Solicitante: Denise Conterato'\n",
        "    or datafreime.loc[i,'Produto_Nome']=='Workshop Mapeamento da Jornada do Cliente - ONLINE AO VIVO - Turma 1'\n",
        "    or datafreime.loc[i,'Produto_Nome']=='Workshop Mapeamento da Jornada do Cliente - ONLINE AO VIVO - Turma 2'\n",
        "    or datafreime.loc[i,'Produto_Nome']=='Workshop Mapeamento da Jornada do Cliente - ONLINE AO VIVO - Turma 3'\n",
        "    or datafreime.loc[i,'Produto_Nome']=='CS INTERMEDIATE'\n",
        "    or datafreime.loc[i,'Produto_Nome']== 'Curso Customer Success Intermediate - ONLINE AO VIVO - Turma 10'):\n",
        "      datafreime.loc[i,'Tipo'] ='Especializações'\n",
        "    elif(datafreime.loc[i,'Produto_Nome']=='Aceleração CS Academy + ClickSign (1ª parcela - abril/2021)'\n",
        "    or datafreime.loc[i,'Produto_Nome']=='Aceleração CS Academy + ClickSign (2ª parcela - maio/2021)' \n",
        "    or datafreime.loc[i,'Produto_Nome']=='Aceleração CS Academy + ClickSign (3ª parcela - junho2021)' \n",
        "    or datafreime.loc[i,'Produto_Nome']=='Aceleração CS Academy + Knewin ' \n",
        "    or datafreime.loc[i,'Produto_Nome']=='Aceleração CS Academy + RH Software (1ª parcela - abril/2021)' \n",
        "    or datafreime.loc[i,'Produto_Nome']=='Aceleração CS Academy + Winnin' \n",
        "    or datafreime.loc[i,'Produto_Nome']=='Aceleração CS Academy + e-Construmarket' \n",
        "    or datafreime.loc[i,'Produto_Nome']=='Consultoria e-Construmarket - 2ª parcela 4ª etapa (março/2021)' \n",
        "    or datafreime.loc[i,'Produto_Nome']=='Consultoria e-Construmarket - 4ª parcela 3ª etapa (janeiro/2020)' \n",
        "    or datafreime.loc[i,'Produto_Nome']=='Consultoria e-Construmarket - 5ª parcela 3ª etapa (fevereiro/2021)' \n",
        "    or datafreime.loc[i,'Produto_Nome']=='Consultoria e-Construmarket 2ª parcela 4ª etapa (março/2021)' \n",
        "    or datafreime.loc[i,'Produto_Nome']=='Consultoria e-Construmarket 3ª parcela 4ª etapa (abril/2021)' \n",
        "    or datafreime.loc[i,'Produto_Nome']=='Formação Incompany Bayer - Pedido No. 613570878' \n",
        "    or datafreime.loc[i,'Produto_Nome']=='Treinamento Incompany Amcham' \n",
        "    or datafreime.loc[i,'Produto_Nome']=='Treinamento Incompany Customer Success + Cursos gravados' \n",
        "    or datafreime.loc[i,'Produto_Nome']=='Treinamento Incompany Sodexo'\n",
        "    or datafreime.loc[i,'Produto_Nome']=='Treinamento Incompany de Customer Success realizado no dia 21/05 / Pedido nº:  30275981 / Vencimento: 30/07/2021'\n",
        "    or datafreime.loc[i,'Produto_Nome']=='Aceleração de Customer Experience - 1ª parcela'):\n",
        "      datafreime.loc[i,'Tipo'] ='B2B'\n",
        "    elif(datafreime.loc[i,'Produto_Nome']=='Curso de verão: Customer Data Driven (online ao vivo)'\n",
        "  or datafreime.loc[i,'Produto_Nome']=='Curso de verão: Customer Support (online ao vivo)'\n",
        "  or datafreime.loc[i,'Produto_Nome']=='Curso de verão: Growth & Customer Loyalty (online ao vivo)'\n",
        "  or datafreime.loc[i,'Produto_Nome']=='Curso de verão: Inovação e Cultura Customer Centric (online ao vivo)'\n",
        "  or datafreime.loc[i,'Produto_Nome']=='Curso de verão: Liderança Criativa (online ao vivo)'\n",
        "  or datafreime.loc[i,'Produto_Nome']=='Curso de verão: Modelos de atendimento Inovadores (online ao vivo)'\n",
        "  or datafreime.loc[i,'Produto_Nome']=='Curso de verão: Ninja das pesquisas (online ao vivo)'\n",
        "  or datafreime.loc[i,'Produto_Nome']=='Curso de verão: TrailBlazer (online ao vivo)'):\n",
        "      datafreime.loc[i,'Tipo'] ='Online'\n",
        "    elif(datafreime.loc[i,'Produto_Nome']=='Patrocínio CS Academy + ASA SOFTWARE LTDA | Customer Analytics Day'\n",
        "    or datafreime.loc[i,'Produto_Nome']=='Curso - Customer Analytics Day'\n",
        "    or datafreime.loc[i,'Produto_Nome']=='Patrocínio CS Academy + NeoAssist | Customer Analytics Day'\n",
        "    or datafreime.loc[i,'Produto_Nome']=='Comissionamento Parceria Loupen' \n",
        "    or datafreime.loc[i,'Produto_Nome']== 'Comissionamento Parceria Loupen -  PIX: 28.822.852/0001-83 - DIEGO FERNANDES DE AZEVEDO EIRELI.'):\n",
        "      datafreime.loc[i,'Tipo'] ='Patrocínio Evento'\n",
        "    elif(datafreime.loc[i,'Produto_Nome']=='Live Journeys'):\n",
        "      datafreime.loc[i,'Tipo'] ='Live Journey'\n",
        "    else:\n",
        "      datafreime.loc[i,'Tipo'] ='BlackBox'\n",
        "  return datafreime"
      ],
      "execution_count": null,
      "outputs": []
    },
    {
      "cell_type": "code",
      "metadata": {
        "id": "PZewbTXX-QYy"
      },
      "source": [
        "vendas = classifica_dados(vendas)"
      ],
      "execution_count": null,
      "outputs": []
    },
    {
      "cell_type": "code",
      "metadata": {
        "id": "5J_xaVStiviA"
      },
      "source": [
        "vendas"
      ],
      "execution_count": null,
      "outputs": []
    },
    {
      "cell_type": "code",
      "metadata": {
        "id": "0KxkM-6_-bMz"
      },
      "source": [
        "vendas = vendas [vendas.Tipo == 'BlackBox']"
      ],
      "execution_count": null,
      "outputs": []
    },
    {
      "cell_type": "code",
      "metadata": {
        "id": "a1XQz66XCW7w"
      },
      "source": [
        "bb.sort_values(by = 'User Email',inplace=True)\n",
        "bb"
      ],
      "execution_count": null,
      "outputs": []
    },
    {
      "cell_type": "code",
      "metadata": {
        "id": "TgXwY-rd8ugk"
      },
      "source": [
        "vendas = vendas[['Cliente_NomeRazaoSocial','Cliente_Email','Venda_Data','Produto_Nome','Venda_MeioPagamento','Venda_ValorTotal']]"
      ],
      "execution_count": null,
      "outputs": []
    },
    {
      "cell_type": "code",
      "metadata": {
        "id": "4nKyrTp3QUol"
      },
      "source": [
        "bb.reset_index(inplace=True,drop = True)"
      ],
      "execution_count": null,
      "outputs": []
    },
    {
      "cell_type": "code",
      "metadata": {
        "id": "BuCH_1zfQifo"
      },
      "source": [
        "vendas.sort_values(by = 'Cliente_Email',inplace=True)\n",
        "vendas.reset_index(inplace=True,drop = True)\n",
        "vendas"
      ],
      "execution_count": null,
      "outputs": []
    },
    {
      "cell_type": "code",
      "metadata": {
        "id": "wArt3eGwjN9A"
      },
      "source": [
        "pgto = vendas['Venda_MeioPagamento']\n",
        "Venda_ValorTotal = vendas['Venda_ValorTotal']\n",
        "data = vendas['Venda_Data']"
      ],
      "execution_count": null,
      "outputs": []
    },
    {
      "cell_type": "code",
      "metadata": {
        "id": "BEfSfhoA9GWm"
      },
      "source": [
        "i = 0\n",
        "for email2 in bb['User Email']:\n",
        "  i += 1\n",
        "  for email in vendas.Cliente_Email:\n",
        "    if email == email2 :\n",
        "      bb.loc[i-1,'Plano Contratado'] = 'Deu Certo'"
      ],
      "execution_count": null,
      "outputs": []
    },
    {
      "cell_type": "code",
      "metadata": {
        "id": "vjUxZiQKDkkv"
      },
      "source": [
        "bb = bb[bb['Plano Contratado'] == 'Deu Certo']"
      ],
      "execution_count": null,
      "outputs": []
    },
    {
      "cell_type": "code",
      "metadata": {
        "id": "fKTgqLtxTQmT"
      },
      "source": [
        "bb.reset_index(inplace=True,drop = True)"
      ],
      "execution_count": null,
      "outputs": []
    },
    {
      "cell_type": "code",
      "metadata": {
        "id": "XXHeg19MF5JJ"
      },
      "source": [
        "\n",
        "i = 0\n",
        "for item in bb['Plano Contratado']:\n",
        "  bb.loc[i,'Plano Contratado'] = vendas.loc[i,'Produto_Nome']\n",
        "  i+=1\n"
      ],
      "execution_count": null,
      "outputs": []
    },
    {
      "cell_type": "markdown",
      "metadata": {
        "id": "4sZEn_T6Bj-k"
      },
      "source": [
        "#Saída"
      ]
    },
    {
      "cell_type": "code",
      "metadata": {
        "id": "M2gCrZpSWHNP"
      },
      "source": [
        "i=0\n",
        "for plano in bb['Plano Contratado']:\n",
        "  if 'Essential' in plano:\n",
        "    if '12x' in plano:\n",
        "      bb.loc[i,'Plano Contratado'] = 'Essential - 12x'\n",
        "      bb.loc[i,'Tag Plano'] = '[bbessential] Aluno'\n",
        "    else:\n",
        "      bb.loc[i,'Plano Contratado'] = 'Essential'\n",
        "      bb.loc[i,'Tag Plano'] = '[bbessential] Aluno'\n",
        "  if 'Specialist' in plano:\n",
        "    if '12x' in plano:\n",
        "      bb.loc[i,'Plano Contratado'] = 'Specialist - 12x'\n",
        "      bb.loc[i,'Tag Plano'] = '[bbspecialist] Aluno'\n",
        "    else:\n",
        "      bb.loc[i,'Plano Contratado'] = 'Specialist'\n",
        "      bb.loc[i,'Tag Plano'] = '[bbspecialist] Aluno'\n",
        "  i+= 1\n"
      ],
      "execution_count": null,
      "outputs": []
    },
    {
      "cell_type": "code",
      "metadata": {
        "id": "axtVYq00arpo"
      },
      "source": [
        "bb.drop(columns='Observações',inplace= True)"
      ],
      "execution_count": null,
      "outputs": []
    },
    {
      "cell_type": "code",
      "metadata": {
        "id": "U7yRXr54a3DH"
      },
      "source": [
        "bb = pd.DataFrame(bb,columns=['id','User Email','First Name','Last Name','Venda_Data'\t,'User Login','Plano Contratado','Tag Plano','Pagamento','Valor'])"
      ],
      "execution_count": null,
      "outputs": []
    },
    {
      "cell_type": "code",
      "metadata": {
        "id": "Z-gbaa4Ntfn7"
      },
      "source": [
        "bb['Pagamento'] = pgto\n",
        "bb['Valor'] = Venda_ValorTotal\n",
        "bb['Venda_Data']= data\n"
      ],
      "execution_count": null,
      "outputs": []
    },
    {
      "cell_type": "code",
      "metadata": {
        "id": "HzWuMO89TphS"
      },
      "source": [
        "active.sort_values(by = 'Email',inplace=True)\n",
        "active"
      ],
      "execution_count": null,
      "outputs": []
    },
    {
      "cell_type": "code",
      "metadata": {
        "id": "JELvUb-8K6QU"
      },
      "source": [
        "active = active[['ID','Email','First Name','Last Name','Date Created','*Empresa','*Cargo','*Leadscoring Geral','Tags']]"
      ],
      "execution_count": null,
      "outputs": []
    },
    {
      "cell_type": "code",
      "metadata": {
        "id": "BfkU_6YXNkbP"
      },
      "source": [
        "active.index = active.Email"
      ],
      "execution_count": null,
      "outputs": []
    },
    {
      "cell_type": "code",
      "metadata": {
        "id": "bGoEgPShW6dG"
      },
      "source": [
        "active.drop(columns='Email',inplace=True)"
      ],
      "execution_count": null,
      "outputs": []
    },
    {
      "cell_type": "code",
      "metadata": {
        "id": "B-CGSQ6DVwT2"
      },
      "source": [
        "bb.index = bb['User Email']\n",
        "bb.drop(columns='User Email',inplace=True)\n",
        "bb"
      ],
      "execution_count": null,
      "outputs": []
    },
    {
      "cell_type": "code",
      "metadata": {
        "id": "_KQnAU4uYAxv"
      },
      "source": [
        "result = pd.concat([active, bb], axis=1,join=\"inner\")"
      ],
      "execution_count": null,
      "outputs": []
    },
    {
      "cell_type": "code",
      "metadata": {
        "id": "SYfAGo2zowFv"
      },
      "source": [
        "result.reset_index(inplace=True)"
      ],
      "execution_count": null,
      "outputs": []
    },
    {
      "cell_type": "code",
      "metadata": {
        "id": "ywIaS8bnoq83"
      },
      "source": [
        "result.columns=['Email','ID', 'First Name', 'Last Name', 'Date Created', '*Empresa', '*Cargo',\n",
        "       '*Leadscoring Geral', 'Tags', 'id', 'First Name', 'Last Name',\n",
        "       'Venda_Data', 'User Login', 'Plano Contratado', 'Tag Plano',\n",
        "       'Pagamento', 'Valor']"
      ],
      "execution_count": null,
      "outputs": []
    },
    {
      "cell_type": "code",
      "metadata": {
        "id": "5v3wi9dQubZp"
      },
      "source": [
        "result ['Data de Renovação'] = 0\n",
        "result ['Data de Renovação'] = pd.to_datetime(result ['Data de Renovação'] ,dayfirst=True)\n",
        "result ['Data de Renovação'] += pd.DateOffset(days=365)\n"
      ],
      "execution_count": null,
      "outputs": []
    },
    {
      "cell_type": "code",
      "metadata": {
        "id": "QYr_f9RAcnbC"
      },
      "source": [
        "result['ARR'] = 0\n",
        "result['MRR'] = 0"
      ],
      "execution_count": null,
      "outputs": []
    },
    {
      "cell_type": "code",
      "metadata": {
        "id": "g5ywTznwvDYg"
      },
      "source": [
        "i = 0\n",
        "for valor in result['Valor']:\n",
        "  if valor >300 :\n",
        "    result.loc[i,'ARR'] += round((valor),2)\n",
        "    result.loc[i,'MRR'] += round((valor/12),2)\n",
        "  else :\n",
        "    result.loc[i,'ARR'] += round((valor*12),2)\n",
        "    result.loc[i,'MRR'] += round((valor),2)\n",
        "  i+=1"
      ],
      "execution_count": null,
      "outputs": []
    },
    {
      "cell_type": "code",
      "metadata": {
        "id": "JHvjz5Fns4QV"
      },
      "source": [
        "result.to_excel('Teste.xlsx')"
      ],
      "execution_count": null,
      "outputs": []
    },
    {
      "cell_type": "code",
      "metadata": {
        "id": "eId_ZUrZvTjE"
      },
      "source": [
        ""
      ],
      "execution_count": null,
      "outputs": []
    }
  ]
}