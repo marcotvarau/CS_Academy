{
  "nbformat": 4,
  "nbformat_minor": 0,
  "metadata": {
    "colab": {
      "name": "BlackBox/Aluno",
      "provenance": [],
      "authorship_tag": "ABX9TyPI715+a90xicVmAb7sscjW",
      "include_colab_link": true
    },
    "kernelspec": {
      "name": "python3",
      "display_name": "Python 3"
    },
    "language_info": {
      "name": "python"
    }
  },
  "cells": [
    {
      "cell_type": "markdown",
      "metadata": {
        "id": "view-in-github",
        "colab_type": "text"
      },
      "source": [
        "<a href=\"https://colab.research.google.com/github/marcotvarau/CS_Academy/blob/main/BlackBox_Aluno.ipynb\" target=\"_parent\"><img src=\"https://colab.research.google.com/assets/colab-badge.svg\" alt=\"Open In Colab\"/></a>"
      ]
    },
    {
      "cell_type": "markdown",
      "metadata": {
        "id": "yjJmu-ScBgQA"
      },
      "source": [
        "#Processamento"
      ]
    },
    {
      "cell_type": "code",
      "metadata": {
        "id": "YwZ1vAB48ebL"
      },
      "source": [
        "import pandas as pd"
      ],
      "execution_count": null,
      "outputs": []
    },
    {
      "cell_type": "code",
      "metadata": {
        "id": "2lFSg-xuCPeh"
      },
      "source": [
        "bb = pd.read_csv('BB.csv')\n",
        "active = pd.read_csv('Active.csv')\n",
        "vendas = pd.read_csv('Vendas_Ano.csv',sep = ';')"
      ],
      "execution_count": null,
      "outputs": []
    },
    {
      "cell_type": "code",
      "metadata": {
        "id": "-N1YMGzyThdj"
      },
      "source": [
        "active = active[['ID','Email','First Name','Last Name','Date Created','*Empresa','*Cargo','*Leadscoring Geral','Tags']]"
      ],
      "execution_count": null,
      "outputs": []
    },
    {
      "cell_type": "code",
      "metadata": {
        "id": "VtQVlKYSWNWF"
      },
      "source": [
        "vendas"
      ],
      "execution_count": null,
      "outputs": []
    },
    {
      "cell_type": "code",
      "metadata": {
        "id": "7xg83Wk7-PLG"
      },
      "source": [
        "def classifica_dados(datafreime):\n",
        "  for i in range(datafreime.shape[0]): \n",
        "    if(datafreime.loc[i,'Produto_Nome']=='Customer Data Analytics'\n",
        "  or datafreime.loc[i,'Produto_Nome']=='Curso Online CS Academy'\n",
        "  or datafreime.loc[i,'Produto_Nome']=='Combo Customer Success Essential e Customer Experience Essential '\n",
        "  or datafreime.loc[i,'Produto_Nome']=='Curso - Curso CSM Essential' \n",
        "  or datafreime.loc[i,'Produto_Nome']=='Curso CSM Essential'  \n",
        "  or datafreime.loc[i,'Produto_Nome']=='Curso CX Essential'\n",
        "  or datafreime.loc[i,'Produto_Nome']=='CS Essential, CX Essential '\n",
        "  or datafreime.loc[i,'Produto_Nome']=='Customer Experience Essential'\n",
        "  or datafreime.loc[i,'Produto_Nome']=='Customer Success Manager Essential'\n",
        "  or datafreime.loc[i,'Produto_Nome']=='Gestão de Atendimento e Suporte'):\n",
        "      datafreime.loc[i,'Tipo'] ='Gravados'\n",
        "    elif(datafreime.loc[i,'Produto_Nome']=='CURSO CX INTERMEDIATE'\n",
        "    or datafreime.loc[i,'Produto_Nome']=='CX Intermediate - Nº do pedido: 4510090263'\n",
        "    or datafreime.loc[i,'Produto_Nome']=='Customer Experience Intermediate - ONLINE AO VIVO - Turma 10'\n",
        "    or datafreime.loc[i,'Produto_Nome']=='Curso Customer Success Intermediate - ONLINE AO VIVO - Turma 11'\n",
        "    or datafreime.loc[i,'Produto_Nome']=='Curso Customer Success Intermediate - ONLINE AO VIVO - Turma 9'\n",
        "    or datafreime.loc[i,'Produto_Nome']=='Customer Experience Intermediate - ONLINE AO VIVO - Turma 7'\n",
        "    or datafreime.loc[i,'Produto_Nome']=='Customer Experience Intermediate - ONLINE AO VIVO - Turma 8'\n",
        "    or datafreime.loc[i,'Produto_Nome']=='Customer Experience Intermediate - ONLINE AO VIVO - Turma 9'\n",
        "    or datafreime.loc[i,'Produto_Nome']=='WORKSHOP CUSTOMER SUCESS - 20 Colaboradores / Pedido de compra nº: 179326 / Solicitante: Denise Conterato'\n",
        "    or datafreime.loc[i,'Produto_Nome']=='Workshop Mapeamento da Jornada do Cliente - ONLINE AO VIVO - Turma 1'\n",
        "    or datafreime.loc[i,'Produto_Nome']=='Workshop Mapeamento da Jornada do Cliente - ONLINE AO VIVO - Turma 2'\n",
        "    or datafreime.loc[i,'Produto_Nome']=='Workshop Mapeamento da Jornada do Cliente - ONLINE AO VIVO - Turma 3'\n",
        "    or datafreime.loc[i,'Produto_Nome']=='CS INTERMEDIATE'\n",
        "    or datafreime.loc[i,'Produto_Nome']== 'Curso Customer Success Intermediate - ONLINE AO VIVO - Turma 10'):\n",
        "      datafreime.loc[i,'Tipo'] ='Especializações'\n",
        "    elif(datafreime.loc[i,'Produto_Nome']=='Aceleração CS Academy + ClickSign (1ª parcela - abril/2021)'\n",
        "    or datafreime.loc[i,'Produto_Nome']=='Aceleração CS Academy + ClickSign (2ª parcela - maio/2021)' \n",
        "    or datafreime.loc[i,'Produto_Nome']=='Aceleração CS Academy + ClickSign (3ª parcela - junho2021)' \n",
        "    or datafreime.loc[i,'Produto_Nome']=='Aceleração CS Academy + Knewin ' \n",
        "    or datafreime.loc[i,'Produto_Nome']=='Aceleração CS Academy + RH Software (1ª parcela - abril/2021)' \n",
        "    or datafreime.loc[i,'Produto_Nome']=='Aceleração CS Academy + Winnin' \n",
        "    or datafreime.loc[i,'Produto_Nome']=='Aceleração CS Academy + e-Construmarket' \n",
        "    or datafreime.loc[i,'Produto_Nome']=='Consultoria e-Construmarket - 2ª parcela 4ª etapa (março/2021)' \n",
        "    or datafreime.loc[i,'Produto_Nome']=='Consultoria e-Construmarket - 4ª parcela 3ª etapa (janeiro/2020)' \n",
        "    or datafreime.loc[i,'Produto_Nome']=='Consultoria e-Construmarket - 5ª parcela 3ª etapa (fevereiro/2021)' \n",
        "    or datafreime.loc[i,'Produto_Nome']=='Consultoria e-Construmarket 2ª parcela 4ª etapa (março/2021)' \n",
        "    or datafreime.loc[i,'Produto_Nome']=='Consultoria e-Construmarket 3ª parcela 4ª etapa (abril/2021)' \n",
        "    or datafreime.loc[i,'Produto_Nome']=='Formação Incompany Bayer - Pedido No. 613570878' \n",
        "    or datafreime.loc[i,'Produto_Nome']=='Treinamento Incompany Amcham' \n",
        "    or datafreime.loc[i,'Produto_Nome']=='Treinamento Incompany Customer Success + Cursos gravados' \n",
        "    or datafreime.loc[i,'Produto_Nome']=='Treinamento Incompany Sodexo'\n",
        "    or datafreime.loc[i,'Produto_Nome']=='Treinamento Incompany de Customer Success realizado no dia 21/05 / Pedido nº:  30275981 / Vencimento: 30/07/2021'):\n",
        "      datafreime.loc[i,'Tipo'] ='B2B'\n",
        "    elif(datafreime.loc[i,'Produto_Nome']=='Curso de verão: Customer Data Driven (online ao vivo)'\n",
        "  or datafreime.loc[i,'Produto_Nome']=='Curso de verão: Customer Support (online ao vivo)'\n",
        "  or datafreime.loc[i,'Produto_Nome']=='Curso de verão: Growth & Customer Loyalty (online ao vivo)'\n",
        "  or datafreime.loc[i,'Produto_Nome']=='Curso de verão: Inovação e Cultura Customer Centric (online ao vivo)'\n",
        "  or datafreime.loc[i,'Produto_Nome']=='Curso de verão: Liderança Criativa (online ao vivo)'\n",
        "  or datafreime.loc[i,'Produto_Nome']=='Curso de verão: Modelos de atendimento Inovadores (online ao vivo)'\n",
        "  or datafreime.loc[i,'Produto_Nome']=='Curso de verão: Ninja das pesquisas (online ao vivo)'\n",
        "  or datafreime.loc[i,'Produto_Nome']=='Curso de verão: TrailBlazer (online ao vivo)'):\n",
        "      datafreime.loc[i,'Tipo'] ='Online'\n",
        "    elif(datafreime.loc[i,'Produto_Nome']=='Patrocínio CS Academy + ASA SOFTWARE LTDA | Customer Analytics Day'\n",
        "    or datafreime.loc[i,'Produto_Nome']=='Curso - Customer Analytics Day'\n",
        "    or datafreime.loc[i,'Produto_Nome']=='Patrocínio CS Academy + NeoAssist | Customer Analytics Day'\n",
        "    or datafreime.loc[i,'Produto_Nome']=='Comissionamento Parceria Loupen' \n",
        "    or datafreime.loc[i,'Produto_Nome']== 'Comissionamento Parceria Loupen -  PIX: 28.822.852/0001-83 - DIEGO FERNANDES DE AZEVEDO EIRELI.'):\n",
        "      datafreime.loc[i,'Tipo'] ='Patrocínio Evento'\n",
        "    elif(datafreime.loc[i,'Produto_Nome']=='Live Journeys'):\n",
        "      datafreime.loc[i,'Tipo'] ='Live Journey'\n",
        "    else:\n",
        "      datafreime.loc[i,'Tipo'] ='BlackBox'\n",
        "  return datafreime"
      ],
      "execution_count": null,
      "outputs": []
    },
    {
      "cell_type": "code",
      "metadata": {
        "id": "PZewbTXX-QYy"
      },
      "source": [
        "vendas = classifica_dados(vendas)"
      ],
      "execution_count": null,
      "outputs": []
    },
    {
      "cell_type": "code",
      "metadata": {
        "id": "5J_xaVStiviA"
      },
      "source": [
        "vendas"
      ],
      "execution_count": null,
      "outputs": []
    },
    {
      "cell_type": "code",
      "metadata": {
        "id": "0KxkM-6_-bMz"
      },
      "source": [
        "vendas = vendas [vendas.Tipo == 'BlackBox']"
      ],
      "execution_count": null,
      "outputs": []
    },
    {
      "cell_type": "code",
      "metadata": {
        "id": "a1XQz66XCW7w"
      },
      "source": [
        "bb.sort_values(by = 'User Email',inplace=True)\n",
        "bb"
      ],
      "execution_count": null,
      "outputs": []
    },
    {
      "cell_type": "code",
      "metadata": {
        "id": "TgXwY-rd8ugk"
      },
      "source": [
        "vendas = vendas[['Cliente_NomeRazaoSocial','Cliente_Email','Venda_Data','Produto_Nome','Venda_MeioPagamento','Venda_ValorTotal']]"
      ],
      "execution_count": null,
      "outputs": []
    },
    {
      "cell_type": "code",
      "metadata": {
        "id": "4nKyrTp3QUol"
      },
      "source": [
        "bb.reset_index(inplace=True,drop = True)"
      ],
      "execution_count": null,
      "outputs": []
    },
    {
      "cell_type": "code",
      "metadata": {
        "id": "BuCH_1zfQifo"
      },
      "source": [
        "vendas.sort_values(by = 'Cliente_Email',inplace=True)\n",
        "vendas.reset_index(inplace=True,drop = True)\n",
        "vendas"
      ],
      "execution_count": null,
      "outputs": []
    },
    {
      "cell_type": "code",
      "metadata": {
        "id": "wArt3eGwjN9A"
      },
      "source": [
        "pgto = vendas['Venda_MeioPagamento']\n",
        "Venda_ValorTotal = vendas['Venda_ValorTotal']\n",
        "data = vendas['Venda_Data']"
      ],
      "execution_count": null,
      "outputs": []
    },
    {
      "cell_type": "code",
      "metadata": {
        "id": "BEfSfhoA9GWm"
      },
      "source": [
        "i = 0\n",
        "for email2 in bb['User Email']:\n",
        "  i += 1\n",
        "  for email in vendas.Cliente_Email:\n",
        "    if email == email2 :\n",
        "      bb.loc[i-1,'Plano Contratado'] = 'Deu Certo'"
      ],
      "execution_count": null,
      "outputs": []
    },
    {
      "cell_type": "code",
      "metadata": {
        "id": "vjUxZiQKDkkv"
      },
      "source": [
        "bb = bb[bb['Plano Contratado'] == 'Deu Certo']"
      ],
      "execution_count": null,
      "outputs": []
    },
    {
      "cell_type": "code",
      "metadata": {
        "id": "syF5iobsSkof"
      },
      "source": [
        "bb"
      ],
      "execution_count": null,
      "outputs": []
    },
    {
      "cell_type": "code",
      "metadata": {
        "id": "fKTgqLtxTQmT"
      },
      "source": [
        "bb.reset_index(inplace=True,drop = True)"
      ],
      "execution_count": null,
      "outputs": []
    },
    {
      "cell_type": "code",
      "metadata": {
        "id": "XXHeg19MF5JJ"
      },
      "source": [
        "\n",
        "i = 0\n",
        "for item in bb['Plano Contratado']:\n",
        "  bb.loc[i,'Plano Contratado'] = vendas.loc[i,'Produto_Nome']\n",
        "  i+=1\n"
      ],
      "execution_count": null,
      "outputs": []
    },
    {
      "cell_type": "markdown",
      "metadata": {
        "id": "4sZEn_T6Bj-k"
      },
      "source": [
        "#Saída"
      ]
    },
    {
      "cell_type": "code",
      "metadata": {
        "id": "M2gCrZpSWHNP"
      },
      "source": [
        "i=0\n",
        "for plano in bb['Plano Contratado']:\n",
        "  if 'Essential' in plano:\n",
        "    if '12x' in plano:\n",
        "      bb.loc[i,'Plano Contratado'] = 'Essential - 12x'\n",
        "      bb.loc[i,'Tag Plano'] = '[bbessential] Aluno'\n",
        "    else:\n",
        "      bb.loc[i,'Plano Contratado'] = 'Essential'\n",
        "      bb.loc[i,'Tag Plano'] = '[bbessential] Aluno'\n",
        "  if 'Specialist' in plano:\n",
        "    if '12x' in plano:\n",
        "      bb.loc[i,'Plano Contratado'] = 'Specialist - 12x'\n",
        "      bb.loc[i,'Tag Plano'] = '[bbspecialist] Aluno'\n",
        "    else:\n",
        "      bb.loc[i,'Plano Contratado'] = 'Specialist'\n",
        "      bb.loc[i,'Tag Plano'] = '[bbspecialist] Aluno'\n",
        "  i+= 1\n"
      ],
      "execution_count": null,
      "outputs": []
    },
    {
      "cell_type": "code",
      "metadata": {
        "id": "axtVYq00arpo"
      },
      "source": [
        "bb.drop(columns='Observações',inplace= True)"
      ],
      "execution_count": null,
      "outputs": []
    },
    {
      "cell_type": "code",
      "metadata": {
        "id": "U7yRXr54a3DH"
      },
      "source": [
        "bb = pd.DataFrame(bb,columns=['id','User Email','First Name','Last Name','Venda_Data'\t,'User Login','Plano Contratado','Tag Plano','Pagamento','Valor'])"
      ],
      "execution_count": null,
      "outputs": []
    },
    {
      "cell_type": "code",
      "metadata": {
        "id": "Z-gbaa4Ntfn7"
      },
      "source": [
        "bb['Pagamento'] = pgto\n",
        "bb['Valor'] = Venda_ValorTotal\n",
        "bb['Venda_Data']= data\n"
      ],
      "execution_count": null,
      "outputs": []
    },
    {
      "cell_type": "code",
      "metadata": {
        "id": "3kcn93BEtp6U"
      },
      "source": [
        "bb"
      ],
      "execution_count": null,
      "outputs": []
    },
    {
      "cell_type": "code",
      "metadata": {
        "id": "HzWuMO89TphS"
      },
      "source": [
        "active.sort_values(by = 'Email',inplace=True)\n",
        "active"
      ],
      "execution_count": null,
      "outputs": []
    },
    {
      "cell_type": "code",
      "metadata": {
        "id": "JELvUb-8K6QU"
      },
      "source": [
        "active = active[['ID','Email','First Name','Last Name','Date Created','*Empresa','*Cargo','*Leadscoring Geral','Tags']]"
      ],
      "execution_count": null,
      "outputs": []
    },
    {
      "cell_type": "code",
      "metadata": {
        "id": "BfkU_6YXNkbP"
      },
      "source": [
        "active.index = active.Email"
      ],
      "execution_count": null,
      "outputs": []
    },
    {
      "cell_type": "code",
      "metadata": {
        "id": "bGoEgPShW6dG"
      },
      "source": [
        "active.drop(columns='Email',inplace=True)"
      ],
      "execution_count": null,
      "outputs": []
    },
    {
      "cell_type": "code",
      "metadata": {
        "id": "B-CGSQ6DVwT2"
      },
      "source": [
        "bb.index = bb['User Email']\n",
        "bb.drop(columns='User Email',inplace=True)\n",
        "bb"
      ],
      "execution_count": null,
      "outputs": []
    },
    {
      "cell_type": "code",
      "metadata": {
        "id": "kOMJ1umHXwAE"
      },
      "source": [
        "active"
      ],
      "execution_count": null,
      "outputs": []
    },
    {
      "cell_type": "code",
      "metadata": {
        "id": "_KQnAU4uYAxv"
      },
      "source": [
        "result = pd.concat([active, bb], axis=1,join=\"inner\")"
      ],
      "execution_count": null,
      "outputs": []
    },
    {
      "cell_type": "code",
      "metadata": {
        "colab": {
          "base_uri": "https://localhost:8080/",
          "height": 1000
        },
        "id": "B2_JCZbbZKjH",
        "outputId": "c08653d7-bab3-430b-9bf8-9fefb6ab74a9"
      },
      "source": [
        "result"
      ],
      "execution_count": null,
      "outputs": [
        {
          "output_type": "execute_result",
          "data": {
            "text/html": [
              "<div>\n",
              "<style scoped>\n",
              "    .dataframe tbody tr th:only-of-type {\n",
              "        vertical-align: middle;\n",
              "    }\n",
              "\n",
              "    .dataframe tbody tr th {\n",
              "        vertical-align: top;\n",
              "    }\n",
              "\n",
              "    .dataframe thead th {\n",
              "        text-align: right;\n",
              "    }\n",
              "</style>\n",
              "<table border=\"1\" class=\"dataframe\">\n",
              "  <thead>\n",
              "    <tr style=\"text-align: right;\">\n",
              "      <th></th>\n",
              "      <th>Email</th>\n",
              "      <th>ID</th>\n",
              "      <th>First Name</th>\n",
              "      <th>Last Name</th>\n",
              "      <th>Date Created</th>\n",
              "      <th>*Empresa</th>\n",
              "      <th>*Cargo</th>\n",
              "      <th>*Leadscoring Geral</th>\n",
              "      <th>Tags</th>\n",
              "      <th>id</th>\n",
              "      <th>First Name</th>\n",
              "      <th>Last Name</th>\n",
              "      <th>Venda_Data</th>\n",
              "      <th>User Login</th>\n",
              "      <th>Plano Contratado</th>\n",
              "      <th>Tag Plano</th>\n",
              "      <th>Pagamento</th>\n",
              "      <th>Valor</th>\n",
              "    </tr>\n",
              "  </thead>\n",
              "  <tbody>\n",
              "    <tr>\n",
              "      <th>0</th>\n",
              "      <td>alessandrocarvalhobrazil@gmail.com</td>\n",
              "      <td>25871</td>\n",
              "      <td>ALESSANDRO</td>\n",
              "      <td>CARVALHO</td>\n",
              "      <td>2021-06-20 17:24:35</td>\n",
              "      <td>Multipedidos</td>\n",
              "      <td>Analista de Implantação</td>\n",
              "      <td>80</td>\n",
              "      <td>Engaged,Recent activity,[Cargo] analista,[kit]...</td>\n",
              "      <td>75</td>\n",
              "      <td>ALESSANDRO</td>\n",
              "      <td>CARVALHO</td>\n",
              "      <td>30/06/2021</td>\n",
              "      <td>alessandrocarvalhobrazil</td>\n",
              "      <td>Essential - 12x</td>\n",
              "      <td>[bbessential] Aluno</td>\n",
              "      <td>Outro</td>\n",
              "      <td>119.0</td>\n",
              "    </tr>\n",
              "    <tr>\n",
              "      <th>1</th>\n",
              "      <td>andressa.stane@satellitus.com</td>\n",
              "      <td>27401</td>\n",
              "      <td>Andressa</td>\n",
              "      <td>Stane</td>\n",
              "      <td>2021-07-15 14:59:28</td>\n",
              "      <td>Satellitus</td>\n",
              "      <td>Head/ Gerente/ Coordenador</td>\n",
              "      <td>160</td>\n",
              "      <td>[portal] Usuário Registrado,activecampaign-pag...</td>\n",
              "      <td>113</td>\n",
              "      <td>Andressa</td>\n",
              "      <td>Stane</td>\n",
              "      <td>09/07/2021</td>\n",
              "      <td>andressa.stane</td>\n",
              "      <td>Specialist - 12x</td>\n",
              "      <td>[bbspecialist] Aluno</td>\n",
              "      <td>CartaoCredito</td>\n",
              "      <td>299.0</td>\n",
              "    </tr>\n",
              "    <tr>\n",
              "      <th>2</th>\n",
              "      <td>fabiana.rezende.frrp@gmail.com</td>\n",
              "      <td>23693</td>\n",
              "      <td>Fabiana</td>\n",
              "      <td>Rezende</td>\n",
              "      <td>2021-05-19 14:44:18</td>\n",
              "      <td>Autonomo</td>\n",
              "      <td>Head/ Gerente/ Coordenador</td>\n",
              "      <td>80</td>\n",
              "      <td>Engaged,[CO-MKT] ebook-10-cases,[CSI] aluno,[C...</td>\n",
              "      <td>104</td>\n",
              "      <td>Fabiana</td>\n",
              "      <td>Rezende</td>\n",
              "      <td>06/07/2021</td>\n",
              "      <td>fabiana.rezende.frrp</td>\n",
              "      <td>Specialist</td>\n",
              "      <td>[bbspecialist] Aluno</td>\n",
              "      <td>CartaoCredito</td>\n",
              "      <td>2999.0</td>\n",
              "    </tr>\n",
              "    <tr>\n",
              "      <th>3</th>\n",
              "      <td>flavinha_soad@yahoo.com.br</td>\n",
              "      <td>8695</td>\n",
              "      <td>Anna Flávia</td>\n",
              "      <td>De Matos Soares</td>\n",
              "      <td>2020-10-08 15:31:13</td>\n",
              "      <td>Allugator</td>\n",
              "      <td>Analista</td>\n",
              "      <td>130</td>\n",
              "      <td>Engaged,[CXE] baixou-ementa,[Cargo] analista,[...</td>\n",
              "      <td>58</td>\n",
              "      <td>Anna Flávia</td>\n",
              "      <td>de Matos Soares</td>\n",
              "      <td>30/06/2021</td>\n",
              "      <td>flavinha_soad</td>\n",
              "      <td>Specialist - 12x</td>\n",
              "      <td>[bbspecialist] Aluno</td>\n",
              "      <td>CartaoCredito</td>\n",
              "      <td>149.0</td>\n",
              "    </tr>\n",
              "    <tr>\n",
              "      <th>4</th>\n",
              "      <td>isadora.rosa@questores.com.br</td>\n",
              "      <td>27655</td>\n",
              "      <td>Isadora</td>\n",
              "      <td>Viana</td>\n",
              "      <td>2021-07-21 14:45:03</td>\n",
              "      <td>NaN</td>\n",
              "      <td>NaN</td>\n",
              "      <td>0</td>\n",
              "      <td>Engaged,Recent activity,[portal] Usuário Regis...</td>\n",
              "      <td>119</td>\n",
              "      <td>Isadora</td>\n",
              "      <td>Viana</td>\n",
              "      <td>13/07/2021</td>\n",
              "      <td>isadora.rosa</td>\n",
              "      <td>Specialist</td>\n",
              "      <td>[bbspecialist] Aluno</td>\n",
              "      <td>BoletoBancario</td>\n",
              "      <td>2999.0</td>\n",
              "    </tr>\n",
              "    <tr>\n",
              "      <th>5</th>\n",
              "      <td>jeffersonluismn@gmail.com</td>\n",
              "      <td>25133</td>\n",
              "      <td>JEFFERSON LUIS MOREIRA</td>\n",
              "      <td>NASCIMENTO</td>\n",
              "      <td>2021-06-11 13:38:01</td>\n",
              "      <td>Jalecoteria</td>\n",
              "      <td>C-level / Diretor</td>\n",
              "      <td>150</td>\n",
              "      <td>Engaged,Recent activity,[CXI] interessados,[CX...</td>\n",
              "      <td>56</td>\n",
              "      <td>JEFFERSON LUIS MOREIRA</td>\n",
              "      <td>NASCIMENTO</td>\n",
              "      <td>01/07/2021</td>\n",
              "      <td>jeffersonluismn</td>\n",
              "      <td>Essential - 12x</td>\n",
              "      <td>[bbessential] Aluno</td>\n",
              "      <td>CartaoCredito</td>\n",
              "      <td>119.0</td>\n",
              "    </tr>\n",
              "    <tr>\n",
              "      <th>6</th>\n",
              "      <td>larissa.bertini@molacorban.com.br</td>\n",
              "      <td>16764</td>\n",
              "      <td>Larissa</td>\n",
              "      <td>Bertini</td>\n",
              "      <td>2021-02-23 10:01:14</td>\n",
              "      <td>Mola</td>\n",
              "      <td>Analista</td>\n",
              "      <td>100</td>\n",
              "      <td>Engaged,Recent activity,[CSI] aluno,[Cargo] an...</td>\n",
              "      <td>122</td>\n",
              "      <td>Larissa</td>\n",
              "      <td>Bertini</td>\n",
              "      <td>19/07/2021</td>\n",
              "      <td>larissa.bertini</td>\n",
              "      <td>Essential - 12x</td>\n",
              "      <td>[bbessential] Aluno</td>\n",
              "      <td>CartaoCredito</td>\n",
              "      <td>119.0</td>\n",
              "    </tr>\n",
              "    <tr>\n",
              "      <th>7</th>\n",
              "      <td>laura.delsarto@gmail.com</td>\n",
              "      <td>13626</td>\n",
              "      <td>Laura</td>\n",
              "      <td>Del Sarto</td>\n",
              "      <td>2021-01-07 19:45:24</td>\n",
              "      <td>Vee Benefícios</td>\n",
              "      <td>Especialista em Excelência Operacional</td>\n",
              "      <td>50</td>\n",
              "      <td>Engaged,[CO-MKT] ebook-10-cases,[CV-GROWTH] al...</td>\n",
              "      <td>82</td>\n",
              "      <td>Laura</td>\n",
              "      <td>Del Sarto</td>\n",
              "      <td>01/07/2021</td>\n",
              "      <td>laura.delsarto</td>\n",
              "      <td>Specialist</td>\n",
              "      <td>[bbspecialist] Aluno</td>\n",
              "      <td>CartaoCredito</td>\n",
              "      <td>1999.0</td>\n",
              "    </tr>\n",
              "    <tr>\n",
              "      <th>8</th>\n",
              "      <td>luryan.ub@gmail.com</td>\n",
              "      <td>27372</td>\n",
              "      <td>Luryan</td>\n",
              "      <td>Ultramar Bravim</td>\n",
              "      <td>2021-07-14 17:33:03</td>\n",
              "      <td>Wds Telecom</td>\n",
              "      <td>Coordenador Administrativo</td>\n",
              "      <td>80</td>\n",
              "      <td>Engaged,[portal] Onboarding - Perfil Completo,...</td>\n",
              "      <td>120</td>\n",
              "      <td>Luryan</td>\n",
              "      <td>Ultramar Bravim</td>\n",
              "      <td>13/07/2021</td>\n",
              "      <td>luryan.ub</td>\n",
              "      <td>Essential - 12x</td>\n",
              "      <td>[bbessential] Aluno</td>\n",
              "      <td>CartaoCredito</td>\n",
              "      <td>119.0</td>\n",
              "    </tr>\n",
              "    <tr>\n",
              "      <th>9</th>\n",
              "      <td>mgsantosrp@gmail.com</td>\n",
              "      <td>18849</td>\n",
              "      <td>MARY GABRIELA VIEIRA SANTOS</td>\n",
              "      <td>GABRIELA VIEIRA SANTOS</td>\n",
              "      <td>2021-03-26 14:20:55</td>\n",
              "      <td>SimplificaCI</td>\n",
              "      <td>Head/ Gerente/ Coordenador</td>\n",
              "      <td>130</td>\n",
              "      <td>Disengaged,[CSI] interessados,[Isca] Comunidad...</td>\n",
              "      <td>62</td>\n",
              "      <td>Mary</td>\n",
              "      <td>Gabriela</td>\n",
              "      <td>30/06/2021</td>\n",
              "      <td>mgsantosrp</td>\n",
              "      <td>Specialist - 12x</td>\n",
              "      <td>[bbspecialist] Aluno</td>\n",
              "      <td>CartaoCredito</td>\n",
              "      <td>299.0</td>\n",
              "    </tr>\n",
              "    <tr>\n",
              "      <th>10</th>\n",
              "      <td>pedroalima812@gmail.com</td>\n",
              "      <td>21385</td>\n",
              "      <td>Pedro</td>\n",
              "      <td>Augusto Lima</td>\n",
              "      <td>2021-05-06 16:51:17</td>\n",
              "      <td>M3</td>\n",
              "      <td>Head/ Gerente/ Coordenador</td>\n",
              "      <td>130</td>\n",
              "      <td>Engaged,Recent activity,[CDA] aluno,[CO-MKT] e...</td>\n",
              "      <td>83</td>\n",
              "      <td>Pedro Augusto</td>\n",
              "      <td>Lima</td>\n",
              "      <td>01/07/2021</td>\n",
              "      <td>pedroalima812</td>\n",
              "      <td>Specialist</td>\n",
              "      <td>[bbspecialist] Aluno</td>\n",
              "      <td>CartaoCredito</td>\n",
              "      <td>2999.0</td>\n",
              "    </tr>\n",
              "    <tr>\n",
              "      <th>11</th>\n",
              "      <td>pongeluppekelly@gmail.com</td>\n",
              "      <td>23078</td>\n",
              "      <td>Kelly</td>\n",
              "      <td>Pongeluppe Fernandes</td>\n",
              "      <td>2021-05-14 18:54:19</td>\n",
              "      <td>wm</td>\n",
              "      <td>Head/ Gerente/ Coordenador</td>\n",
              "      <td>130</td>\n",
              "      <td>Engaged,Recent activity,[CSE] baixou-ementa,[C...</td>\n",
              "      <td>80</td>\n",
              "      <td>Kelly</td>\n",
              "      <td>Pongeluppe Fernandes</td>\n",
              "      <td>01/07/2021</td>\n",
              "      <td>pongeluppekelly</td>\n",
              "      <td>Specialist</td>\n",
              "      <td>[bbspecialist] Aluno</td>\n",
              "      <td>CartaoCredito</td>\n",
              "      <td>2999.0</td>\n",
              "    </tr>\n",
              "    <tr>\n",
              "      <th>12</th>\n",
              "      <td>ramonsoares95@gmail.com</td>\n",
              "      <td>17444</td>\n",
              "      <td>Ramon</td>\n",
              "      <td>Soares</td>\n",
              "      <td>2021-03-01 15:07:36</td>\n",
              "      <td>Nofaro</td>\n",
              "      <td>Analista</td>\n",
              "      <td>100</td>\n",
              "      <td>Engaged,Recent activity,[CDA] baixou-ementa,[C...</td>\n",
              "      <td>116</td>\n",
              "      <td>Ramon</td>\n",
              "      <td>Soares</td>\n",
              "      <td>12/07/2021</td>\n",
              "      <td>ramonsoares95</td>\n",
              "      <td>Essential</td>\n",
              "      <td>[bbessential] Aluno</td>\n",
              "      <td>CartaoCredito</td>\n",
              "      <td>1199.0</td>\n",
              "    </tr>\n",
              "    <tr>\n",
              "      <th>13</th>\n",
              "      <td>rosesirnes@gmail.com</td>\n",
              "      <td>18771</td>\n",
              "      <td>Rosemeri Campos Sirnes Ribeiro</td>\n",
              "      <td>Ribeiro</td>\n",
              "      <td>2021-03-23 16:26:54</td>\n",
              "      <td>EDIFY</td>\n",
              "      <td>Analista</td>\n",
              "      <td>100</td>\n",
              "      <td>Engaged,Recent activity,[GAS] baixou-ementa,[I...</td>\n",
              "      <td>91</td>\n",
              "      <td>Rose</td>\n",
              "      <td>Campos Sirnes Ribeiro</td>\n",
              "      <td>06/07/2021</td>\n",
              "      <td>rosesirnes</td>\n",
              "      <td>Essential</td>\n",
              "      <td>[bbessential] Aluno</td>\n",
              "      <td>NaoInformado</td>\n",
              "      <td>1190.0</td>\n",
              "    </tr>\n",
              "    <tr>\n",
              "      <th>14</th>\n",
              "      <td>thais@sulmidia.com.br</td>\n",
              "      <td>26660</td>\n",
              "      <td>Thais</td>\n",
              "      <td>Ansiutti</td>\n",
              "      <td>2021-07-02 10:46:30</td>\n",
              "      <td>Sul Mídia Informática</td>\n",
              "      <td>Head/ Gerente/ Coordenador</td>\n",
              "      <td>110</td>\n",
              "      <td>[CSI] aluno,[CSI] interessados,[Cargo] líder,[...</td>\n",
              "      <td>139</td>\n",
              "      <td>Thais</td>\n",
              "      <td>Ansiutti</td>\n",
              "      <td>19/07/2021</td>\n",
              "      <td>thais</td>\n",
              "      <td>Specialist</td>\n",
              "      <td>[bbspecialist] Aluno</td>\n",
              "      <td>CartaoCredito</td>\n",
              "      <td>1999.0</td>\n",
              "    </tr>\n",
              "    <tr>\n",
              "      <th>15</th>\n",
              "      <td>tiagocostaflores21@gmail.com</td>\n",
              "      <td>23362</td>\n",
              "      <td>Tiago</td>\n",
              "      <td>Flores</td>\n",
              "      <td>2021-05-17 23:11:25</td>\n",
              "      <td>Sem emprego</td>\n",
              "      <td>Procurando Recolocação</td>\n",
              "      <td>50</td>\n",
              "      <td>Engaged,Recent activity,[CSE] baixou-ementa,[C...</td>\n",
              "      <td>84</td>\n",
              "      <td>Tiago Costa</td>\n",
              "      <td>Flores</td>\n",
              "      <td>01/07/2021</td>\n",
              "      <td>tiagocostaflores21</td>\n",
              "      <td>Specialist - 12x</td>\n",
              "      <td>[bbspecialist] Aluno</td>\n",
              "      <td>CartaoCredito</td>\n",
              "      <td>299.0</td>\n",
              "    </tr>\n",
              "    <tr>\n",
              "      <th>16</th>\n",
              "      <td>williamkagiyama@gmail.com</td>\n",
              "      <td>25271</td>\n",
              "      <td>William</td>\n",
              "      <td>Hideki Kagiyama</td>\n",
              "      <td>2021-06-13 17:17:37</td>\n",
              "      <td>Olimpia Serviços Automotivos</td>\n",
              "      <td>Analista</td>\n",
              "      <td>50</td>\n",
              "      <td>Engaged,Recent activity,[CSE] aluno,[CSE] baix...</td>\n",
              "      <td>99</td>\n",
              "      <td>William</td>\n",
              "      <td>Hideki Kagiyama</td>\n",
              "      <td>05/07/2021</td>\n",
              "      <td>williamkagiyama</td>\n",
              "      <td>Specialist</td>\n",
              "      <td>[bbspecialist] Aluno</td>\n",
              "      <td>CartaoCredito</td>\n",
              "      <td>1999.0</td>\n",
              "    </tr>\n",
              "    <tr>\n",
              "      <th>17</th>\n",
              "      <td>ysamuniz@uol.com.br</td>\n",
              "      <td>1016</td>\n",
              "      <td>Maysa</td>\n",
              "      <td>NaN</td>\n",
              "      <td>2020-09-28 17:32:41</td>\n",
              "      <td>Marsh</td>\n",
              "      <td>Head/ Gerente/ Coordenador</td>\n",
              "      <td>80</td>\n",
              "      <td>Engaged,[Cargo] decisor,[Isca] Comunidade,[JC]...</td>\n",
              "      <td>63</td>\n",
              "      <td>Maysa</td>\n",
              "      <td>Muniz</td>\n",
              "      <td>30/06/2021</td>\n",
              "      <td>ysamuniz</td>\n",
              "      <td>Specialist - 12x</td>\n",
              "      <td>[bbspecialist] Aluno</td>\n",
              "      <td>CartaoCredito</td>\n",
              "      <td>299.0</td>\n",
              "    </tr>\n",
              "  </tbody>\n",
              "</table>\n",
              "</div>"
            ],
            "text/plain": [
              "                                 Email     ID  ...       Pagamento   Valor\n",
              "0   alessandrocarvalhobrazil@gmail.com  25871  ...           Outro   119.0\n",
              "1        andressa.stane@satellitus.com  27401  ...   CartaoCredito   299.0\n",
              "2       fabiana.rezende.frrp@gmail.com  23693  ...   CartaoCredito  2999.0\n",
              "3           flavinha_soad@yahoo.com.br   8695  ...   CartaoCredito   149.0\n",
              "4        isadora.rosa@questores.com.br  27655  ...  BoletoBancario  2999.0\n",
              "5            jeffersonluismn@gmail.com  25133  ...   CartaoCredito   119.0\n",
              "6    larissa.bertini@molacorban.com.br  16764  ...   CartaoCredito   119.0\n",
              "7             laura.delsarto@gmail.com  13626  ...   CartaoCredito  1999.0\n",
              "8                  luryan.ub@gmail.com  27372  ...   CartaoCredito   119.0\n",
              "9                 mgsantosrp@gmail.com  18849  ...   CartaoCredito   299.0\n",
              "10             pedroalima812@gmail.com  21385  ...   CartaoCredito  2999.0\n",
              "11           pongeluppekelly@gmail.com  23078  ...   CartaoCredito  2999.0\n",
              "12             ramonsoares95@gmail.com  17444  ...   CartaoCredito  1199.0\n",
              "13                rosesirnes@gmail.com  18771  ...    NaoInformado  1190.0\n",
              "14               thais@sulmidia.com.br  26660  ...   CartaoCredito  1999.0\n",
              "15        tiagocostaflores21@gmail.com  23362  ...   CartaoCredito   299.0\n",
              "16           williamkagiyama@gmail.com  25271  ...   CartaoCredito  1999.0\n",
              "17                 ysamuniz@uol.com.br   1016  ...   CartaoCredito   299.0\n",
              "\n",
              "[18 rows x 18 columns]"
            ]
          },
          "metadata": {
            "tags": []
          },
          "execution_count": 49
        }
      ]
    },
    {
      "cell_type": "code",
      "metadata": {
        "id": "SYfAGo2zowFv"
      },
      "source": [
        "result.reset_index(inplace=True)"
      ],
      "execution_count": null,
      "outputs": []
    },
    {
      "cell_type": "code",
      "metadata": {
        "id": "ywIaS8bnoq83"
      },
      "source": [
        "result.columns=['Email','ID', 'First Name', 'Last Name', 'Date Created', '*Empresa', '*Cargo',\n",
        "       '*Leadscoring Geral', 'Tags', 'id', 'First Name', 'Last Name',\n",
        "       'Venda_Data', 'User Login', 'Plano Contratado', 'Tag Plano',\n",
        "       'Pagamento', 'Valor']"
      ],
      "execution_count": null,
      "outputs": []
    },
    {
      "cell_type": "code",
      "metadata": {
        "id": "U4tvVJ2ttYrU"
      },
      "source": [
        "result.insert()"
      ],
      "execution_count": null,
      "outputs": []
    },
    {
      "cell_type": "code",
      "metadata": {
        "id": "5v3wi9dQubZp"
      },
      "source": [
        ""
      ],
      "execution_count": null,
      "outputs": []
    }
  ]
}