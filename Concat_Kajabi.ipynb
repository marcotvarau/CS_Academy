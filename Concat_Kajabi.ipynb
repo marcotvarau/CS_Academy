{
  "nbformat": 4,
  "nbformat_minor": 0,
  "metadata": {
    "colab": {
      "name": "Concat_Kajabi",
      "provenance": [],
      "authorship_tag": "ABX9TyPqrdq3juddAotV3xdbzRxh",
      "include_colab_link": true
    },
    "kernelspec": {
      "name": "python3",
      "display_name": "Python 3"
    },
    "language_info": {
      "name": "python"
    }
  },
  "cells": [
    {
      "cell_type": "markdown",
      "metadata": {
        "id": "view-in-github",
        "colab_type": "text"
      },
      "source": [
        "<a href=\"https://colab.research.google.com/github/marcotvarau/CS_Academy/blob/main/Concat_Kajabi.ipynb\" target=\"_parent\"><img src=\"https://colab.research.google.com/assets/colab-badge.svg\" alt=\"Open In Colab\"/></a>"
      ]
    },
    {
      "cell_type": "code",
      "metadata": {
        "id": "tgKb3Tcx8Ec1"
      },
      "source": [
        "import pandas as pd"
      ],
      "execution_count": null,
      "outputs": []
    },
    {
      "cell_type": "code",
      "metadata": {
        "id": "tNmG6xyT8JDu"
      },
      "source": [
        "df1 = pd.read_csv('Kajabi.csv')\n",
        "df2 = pd.read_csv('Kajabi2.csv')"
      ],
      "execution_count": null,
      "outputs": []
    },
    {
      "cell_type": "code",
      "metadata": {
        "id": "kM2EB7My8VDQ"
      },
      "source": [
        "df = pd.concat([df1,df2])"
      ],
      "execution_count": null,
      "outputs": []
    },
    {
      "cell_type": "code",
      "metadata": {
        "id": "jWx_dyfe8iqh"
      },
      "source": [
        "df.to_csv('KajabiT.csv')"
      ],
      "execution_count": null,
      "outputs": []
    }
  ]
}